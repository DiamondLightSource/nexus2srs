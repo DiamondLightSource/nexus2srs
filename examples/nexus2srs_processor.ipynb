{
 "cells": [
  {
   "cell_type": "code",
   "execution_count": null,
   "metadata": {},
   "outputs": [],
   "source": [
    "# Processor requirements\n",
    "# The first two cells must be code cells, inpath and outpath define the scan file location and output location\n",
    "inpath = \"example_files/970792.nxs\""
   ]
  },
  {
   "cell_type": "code",
   "execution_count": null,
   "metadata": {},
   "outputs": [],
   "source": [
    "outpath = \"\""
   ]
  },
  {
   "cell_type": "code",
   "execution_count": null,
   "metadata": {},
   "outputs": [],
   "source": [
    "#sys.path.insert(0, '/dls_sw/i16/software/python/babelscan')\n",
    "import os\n",
    "from nexus2srs import nxs2dat, module_info\n",
    "\n",
    "print(module_info())"
   ]
  },
  {
   "cell_type": "code",
   "execution_count": null,
   "metadata": {},
   "outputs": [],
   "source": [
    "help(nxs2dat)"
   ]
  },
  {
   "cell_type": "code",
   "execution_count": null,
   "metadata": {},
   "outputs": [],
   "source": [
    "expdir = os.path.abspath(os.path.dirname(inpath))\n",
    "filename = os.path.basename(inpath)\n",
    "name, ext = os.path.splitext(filename)\n",
    "newname = os.path.join(expdir, 'spool', name + '.dat')\n",
    "print(f\"Experiment directory: {expdir}\")\n",
    "print(f\"Filname: {filename}\")\n",
    "print(f\"New filepath: {newname}\")"
   ]
  },
  {
   "cell_type": "code",
   "execution_count": null,
   "metadata": {},
   "outputs": [],
   "source": [
    "nxs2dat(\n",
    "    nexus_file=inpath,\n",
    "    dat_file=newname,\n",
    "    write_tif=True\n",
    ")"
   ]
  }
 ],
 "metadata": {
  "kernelspec": {
   "display_name": "Python 3",
   "language": "python",
   "name": "python3"
  },
  "language_info": {
   "codemirror_mode": {
    "name": "ipython",
    "version": 3
   },
   "file_extension": ".py",
   "mimetype": "text/x-python",
   "name": "python",
   "nbconvert_exporter": "python",
   "pygments_lexer": "ipython3",
   "version": "3.7.4"
  }
 },
 "nbformat": 4,
 "nbformat_minor": 2
}
